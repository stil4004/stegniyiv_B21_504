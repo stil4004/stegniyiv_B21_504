{
 "cells": [
  {
   "cell_type": "code",
   "execution_count": null,
   "metadata": {},
   "outputs": [],
   "source": [
    "import os\n",
    "import numpy as np\n",
    "from matplotlib import pyplot as plt\n",
    "from PIL import Image, ImageFont, ImageDraw, ImageOps"
   ]
  },
  {
   "cell_type": "code",
   "execution_count": 1,
   "metadata": {},
   "outputs": [
    {
     "ename": "NameError",
     "evalue": "name 'ImageFont' is not defined",
     "output_type": "error",
     "traceback": [
      "\u001b[1;31m---------------------------------------------------------------------------\u001b[0m",
      "\u001b[1;31mNameError\u001b[0m                                 Traceback (most recent call last)",
      "Cell \u001b[1;32mIn[1], line 4\u001b[0m\n\u001b[0;32m      1\u001b[0m PHRASE \u001b[38;5;241m=\u001b[39m \u001b[38;5;124m\"\u001b[39m\u001b[38;5;124mཁོང་ཡོང་འདོད་ཀྱང་དུས་ཆུད་མེད།\u001b[39m\u001b[38;5;124m\"\u001b[39m\n\u001b[0;32m      2\u001b[0m WHITE \u001b[38;5;241m=\u001b[39m \u001b[38;5;241m255\u001b[39m\n\u001b[1;32m----> 4\u001b[0m FONT \u001b[38;5;241m=\u001b[39m \u001b[43mImageFont\u001b[49m\u001b[38;5;241m.\u001b[39mtruetype(\u001b[38;5;124m\"\u001b[39m\u001b[38;5;124minput/Unicode.ttf\u001b[39m\u001b[38;5;124m\"\u001b[39m, \u001b[38;5;241m52\u001b[39m)\n\u001b[0;32m      5\u001b[0m THRESHOLD \u001b[38;5;241m=\u001b[39m \u001b[38;5;241m75\u001b[39m\n",
      "\u001b[1;31mNameError\u001b[0m: name 'ImageFont' is not defined"
     ]
    }
   ],
   "source": [
    "PHRASE = \"ཁོང་ཡོང་འདོད་ཀྱང་དུས་ཆུད་མེད།\"\n",
    "WHITE = 255\n",
    "\n",
    "FONT = ImageFont.truetype(\"input/Unicode.ttf\", 52)\n",
    "THRESHOLD = 75"
   ]
  },
  {
   "cell_type": "code",
   "execution_count": null,
   "metadata": {},
   "outputs": [],
   "source": [
    "def _simple_binarization(img, threshold=THRESHOLD):\n",
    "    new_image = np.zeros(shape=img.shape)\n",
    "    new_image[img > threshold] = WHITE\n",
    "    return new_image.astype(np.uint8)"
   ]
  },
  {
   "cell_type": "code",
   "execution_count": null,
   "metadata": {},
   "outputs": [],
   "source": [
    "def create_phrase_profiles(img: np.array):\n",
    "    os.makedirs(\"output/phrase_profile\", exist_ok=True)\n",
    "    img_b = np.zeros(img.shape, dtype=int)\n",
    "    img_b[img != WHITE] = 1  \n",
    "\n",
    "    plt.bar(\n",
    "        x=np.arange(start=1, stop=img_b.shape[1] + 1).astype(int),\n",
    "        height=np.sum(img_b, axis=0),\n",
    "        width=0.9\n",
    "    )\n",
    "    plt.savefig(f'output/phrase_profile/x.png')\n",
    "    plt.clf()\n",
    "\n",
    "    plt.barh(\n",
    "        y=np.arange(start=1, stop=img_b.shape[0] + 1).astype(int),\n",
    "        width=np.sum(img_b, axis=1),\n",
    "        height=0.9\n",
    "    )\n",
    "    plt.savefig(f'output/phrase_profile/y.png')\n",
    "    plt.clf()"
   ]
  },
  {
   "cell_type": "code",
   "execution_count": null,
   "metadata": {},
   "outputs": [],
   "source": [
    "def generate_phrase_image():\n",
    "    space_len = 5\n",
    "    phrase_width = sum(FONT.getsize(char)[0] for char in PHRASE) + space_len * (len(PHRASE) - 1)\n",
    "\n",
    "    height = max(FONT.getsize(char)[1] for char in PHRASE)\n",
    "\n",
    "    img = Image.new(\"L\", (phrase_width, height), color=\"white\")\n",
    "    draw = ImageDraw.Draw(img)\n",
    "\n",
    "    current_x = 0\n",
    "    for letter in PHRASE:\n",
    "        width, letter_height = FONT.getsize(letter)\n",
    "        draw.text((current_x, height - letter_height), letter, \"black\", font=FONT)\n",
    "        current_x += width + space_len\n",
    "\n",
    "    img = Image.fromarray(_simple_binarization(np.array(img)))\n",
    "    img.save(\"output/original_phrase.bmp\")\n",
    "\n",
    "    np_img = np.array(img)\n",
    "    create_phrase_profiles(np_img)\n",
    "    ImageOps.invert(img).save(\"output/inverted_phrase.bmp\")\n",
    "    return np_img\n"
   ]
  },
  {
   "cell_type": "code",
   "execution_count": null,
   "metadata": {},
   "outputs": [],
   "source": [
    "\n",
    "# Function to find bounds of every let\n",
    "def segment_letters(img):\n",
    "    profile = np.sum(img == 0, axis=0)\n",
    "\n",
    "    in_letter = False\n",
    "    letter_bounds = []\n",
    "\n",
    "    for i in range(len(profile)):\n",
    "        if profile[i] > 0:\n",
    "            if not in_letter:\n",
    "                in_letter = True\n",
    "                start = i\n",
    "        else:\n",
    "            if in_letter:\n",
    "                in_letter = False\n",
    "                end = i\n",
    "                letter_bounds.append((start - 1, end))\n",
    "\n",
    "    if in_letter:\n",
    "        letter_bounds.append((start, len(profile)))\n",
    "\n",
    "    return letter_bounds\n"
   ]
  }
 ],
 "metadata": {
  "kernelspec": {
   "display_name": "Python 3",
   "language": "python",
   "name": "python3"
  },
  "language_info": {
   "codemirror_mode": {
    "name": "ipython",
    "version": 3
   },
   "file_extension": ".py",
   "mimetype": "text/x-python",
   "name": "python",
   "nbconvert_exporter": "python",
   "pygments_lexer": "ipython3",
   "version": "3.11.2"
  }
 },
 "nbformat": 4,
 "nbformat_minor": 2
}
