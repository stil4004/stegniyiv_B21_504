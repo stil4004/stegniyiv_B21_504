{
 "cells": [
  {
   "cell_type": "code",
   "execution_count": 1,
   "metadata": {},
   "outputs": [],
   "source": [
    "from PIL import Image\n",
    "from time import time_ns\n",
    "import math\n",
    "import numpy as np\n",
    "import os\n",
    "import ipywidgets as widgets"
   ]
  },
  {
   "cell_type": "code",
   "execution_count": 2,
   "metadata": {},
   "outputs": [],
   "source": [
    "def get_all_images():\n",
    "  fileDict = {}\n",
    "  for img_name in  os.listdir(\"./input\"):\n",
    "    img_file = Image.open('input/' + img_name, 'r').convert('RGB')\n",
    "    fileDict.update({img_name: img_file})\n",
    "  return fileDict"
   ]
  },
  {
   "cell_type": "code",
   "execution_count": 3,
   "metadata": {},
   "outputs": [],
   "source": [
    "def binarization(image):\n",
    "  result = Image.new('L', (image.width, image.height))\n",
    "\n",
    "  for x in range(result.width):  #цвет в полутон\n",
    "    for y in range(result.height):\n",
    "      pixel = image.getpixel((x, y))\n",
    "      new_pixel = int(round(pixel[0] * 0.3 + pixel[1] * 0.59 + pixel[2] * 0.11))\n",
    "      result.putpixel((x, y), new_pixel)\n",
    "\n",
    "  return result"
   ]
  },
  {
   "cell_type": "code",
   "execution_count": 4,
   "metadata": {},
   "outputs": [],
   "source": [
    "operator_prewitt_x = np.array([[-1, -1, -1], \n",
    "                               [ 0,  0,  0],\n",
    "                               [ 1,  1,  1]])\n",
    "operator_prewitt_y = np.array([[-1, 0, 1], \n",
    "                               [-1, 0, 1],\n",
    "                               [-1, 0, 1]])"
   ]
  },
  {
   "cell_type": "code",
   "execution_count": 5,
   "metadata": {},
   "outputs": [
    {
     "data": {
      "application/vnd.jupyter.widget-view+json": {
       "model_id": "02a1181162014893af403ee7659c4b37",
       "version_major": 2,
       "version_minor": 0
      },
      "text/plain": [
       "FloatSlider(value=2.5, description='Test:', max=10.0, readout_format='.1f', step=0.5)"
      ]
     },
     "execution_count": 5,
     "metadata": {},
     "output_type": "execute_result"
    }
   ],
   "source": [
    "s = widgets.FloatSlider(\n",
    "  value=2.5,\n",
    "  min=0,\n",
    "  max=10.0,\n",
    "  step=0.5,\n",
    "  description='Test:',\n",
    "  disabled=False,\n",
    "  continuous_update=True,\n",
    "  orientation='horizontal',\n",
    "  readout=True,\n",
    "  readout_format='.1f',\n",
    ")\n",
    "s"
   ]
  },
  {
   "cell_type": "code",
   "execution_count": 6,
   "metadata": {},
   "outputs": [],
   "source": [
    "def contour_selection(image, operator_x, operator_y, window_size):\n",
    "  width, height = image.size\n",
    "  S = s.value\n",
    "  print(S)\n",
    "  gray_arr = np.asarray(image, dtype=np.uint8)\n",
    "  \n",
    "  G_x_matrix = np.zeros(shape=(height, width))\n",
    "  G_y_matrix = np.zeros(shape=(height, width))\n",
    "  G_matrix = np.zeros(shape=(height, width))\n",
    "  \n",
    "  padded_gray_arr = np.pad(gray_arr, ((1, 1), (1, 1)), mode='constant')  #однопиксельные отступы вокруг, чтобы градиент на краях был в норме\n",
    "  for i in range(1, height+1): \n",
    "    for j in range(1, width+1): \n",
    "      i_min = max(i - window_size // 2, 0)\n",
    "      i_max = min(i + window_size // 2, height+1)\n",
    "      j_min = max(j - window_size // 2, 0)\n",
    "      j_max = min(j + window_size // 2, width+1)\n",
    "      \n",
    "      window_matrix = padded_gray_arr[i_min:i_max+1, j_min:j_max+1] #матрица значений для окна свертки\n",
    "      \n",
    "      G_x = np.sum(operator_x * window_matrix) #компоненты градиента\n",
    "      G_y = np.sum(operator_y * window_matrix)\n",
    "      G = np.abs(G_x) + np.abs(G_y)\n",
    "\n",
    "      G_x_matrix[i-1, j-1] = int(round(G_x))\n",
    "      G_y_matrix[i-1, j-1] = int(round(G_y))\n",
    "      G_matrix[i-1, j-1] = int(round(G))\n",
    "        \n",
    "  G_x_matrix_normalized = np.abs(G_x_matrix / np.max(G_x_matrix) * 255) #не выходить за ограду от 0 до 255!!\n",
    "  G_y_matrix_normalized = np.abs(G_y_matrix / np.max(G_y_matrix) * 255)\n",
    "  G_matrix_normalized = G_matrix / np.max(G_matrix) * 255\n",
    "  \n",
    "  t = np.mean(G_matrix_normalized) * S   #порог бинаризации(среднее на S)\n",
    "\n",
    "  gXImg = Image.fromarray(G_x_matrix_normalized.astype(np.uint8), mode='L')\n",
    "  gYImg = Image.fromarray(G_y_matrix_normalized.astype(np.uint8), mode='L')\n",
    "\n",
    "  g_img = Image.fromarray(G_matrix_normalized.astype(np.uint8), mode='L')\n",
    "  binary_img = Image.fromarray((G_matrix_normalized > t).astype(np.uint8) * 255, mode = 'L') # порог бинаризации к суммарной матрице, выше - снежок, ниже - уголек\n",
    "\n",
    "  return gXImg, gYImg, g_img, binary_img\n"
   ]
  },
  {
   "cell_type": "code",
   "execution_count": 7,
   "metadata": {},
   "outputs": [],
   "source": [
    "def apply_frill_filter(image):\n",
    "  eroded_image = image.copy()\n",
    "\n",
    "  # Итерироваться по всем пикселям изображения\n",
    "  for i in range(1, image.shape[0]-1):\n",
    "    for j in range(1, image.shape[1]-1):\n",
    "\n",
    "      # Проверить, является ли пиксель крайним верхним пикселем\n",
    "      if image[i, j] == 1 and all([\n",
    "          image[i-1, j-1] == 0,\n",
    "          image[i-1, j] == 0,\n",
    "          image[i-1, j+1] == 0,\n",
    "          image[i, j-1] == 0,\n",
    "          image[i, j+1] == 0,\n",
    "      ]):\n",
    "        eroded_image[i, j] = 0\n",
    "\n",
    "      # Проверить, является ли пиксель крайним левым пикселем\n",
    "      elif image[i, j] == 1 and all([\n",
    "          image[i-1, j-1] == 0,\n",
    "          image[i, j-1] == 0,\n",
    "          image[i+1, j-1] == 0,\n",
    "          image[i-1, j] == 0,\n",
    "          image[i+1, j] == 0,\n",
    "      ]):\n",
    "        eroded_image[i, j] = 0\n",
    "\n",
    "      # Проверить, является ли пиксель крайним нижним пикселем\n",
    "      elif image[i, j] == 1 and all([\n",
    "          image[i+1, j-1] == 0,\n",
    "          image[i+1, j] == 0,\n",
    "          image[i+1, j+1] == 0,\n",
    "          image[i, j-1] == 0,\n",
    "          image[i, j+1] == 0,\n",
    "      ]):\n",
    "        eroded_image[i, j] = 0\n",
    "\n",
    "      # Проверить, является ли пиксель крайним правым пикселем\n",
    "      elif image[i, j] == 1 and all([\n",
    "          image[i-1, j+1] == 0,\n",
    "          image[i, j+1] == 0,\n",
    "          image[i+1, j+1] == 0,\n",
    "          image[i-1, j] == 0,\n",
    "          image[i+1, j] == 0,\n",
    "      ]):\n",
    "        eroded_image[i, j] = 0\n",
    "\n",
    "      # Проверить, является ли пиксель изолированным пикселем\n",
    "      elif image[i, j] == 1 and all([\n",
    "          image[i-1, j-1] == 0,\n",
    "          image[i-1, j] == 0,\n",
    "          image[i-1, j+1] == 0,\n",
    "          image[i, j-1] == 0,\n",
    "          image[i, j+1] == 0,\n",
    "          image[i+1, j-1] == 0,\n",
    "          image[i+1, j] == 0,\n",
    "          image[i+1, j+1] == 0,\n",
    "      ]):\n",
    "        eroded_image[i, j] = 0\n",
    "    img = Image.fromarray(eroded_image.astype(np.uint8), mode='L')\n",
    "    return img"
   ]
  },
  {
   "cell_type": "code",
   "execution_count": 8,
   "metadata": {},
   "outputs": [],
   "source": [
    "def proceed_contour(operator_x, operator_y, window_size: int):\n",
    "  images = get_all_images()\n",
    "\n",
    "  for (image_name, image) in images.items():\n",
    "    img = binarization(image)\n",
    "    img_to_proceed = np.asarray(img, dtype=np.uint8)\n",
    "    output_img = apply_frill_filter(img_to_proceed)\n",
    "    output_img.save('output/' + image_name[:-4] + '_binary.processed.png')"
   ]
  },
  {
   "cell_type": "code",
   "execution_count": 9,
   "metadata": {},
   "outputs": [],
   "source": [
    "def main():\n",
    "  proceed_contour(operator_prewitt_x, operator_prewitt_y, 3)"
   ]
  },
  {
   "cell_type": "code",
   "execution_count": 10,
   "metadata": {},
   "outputs": [],
   "source": [
    "if __name__ == '__main__':\n",
    "  main()\n"
   ]
  }
 ],
 "metadata": {
  "kernelspec": {
   "display_name": "Python 3",
   "language": "python",
   "name": "python3"
  },
  "language_info": {
   "codemirror_mode": {
    "name": "ipython",
    "version": 3
   },
   "file_extension": ".py",
   "mimetype": "text/x-python",
   "name": "python",
   "nbconvert_exporter": "python",
   "pygments_lexer": "ipython3",
   "version": "3.11.2"
  }
 },
 "nbformat": 4,
 "nbformat_minor": 2
}
