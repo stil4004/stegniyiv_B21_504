{
 "cells": [
  {
   "cell_type": "code",
   "execution_count": 1,
   "metadata": {},
   "outputs": [],
   "source": [
    "from PIL import Image\n",
    "import numpy as np"
   ]
  },
  {
   "cell_type": "code",
   "execution_count": 2,
   "metadata": {},
   "outputs": [],
   "source": [
    "def __rank_filter_helper(img, new_image, x, y, size, threshold):\n",
    "    aperture = img[max(y - size // 2, 0):min(y + size // 2 + 1, img.shape[0]),\n",
    "                   max(x - size // 2, 0):min(x + size // 2 + 1, img.shape[1])]\n",
    "\n",
    "    ones = (aperture == 255).sum()\n",
    "\n",
    "    if ones >= threshold:\n",
    "        new_image[y, x] = 255"
   ]
  },
  {
   "cell_type": "code",
   "execution_count": 3,
   "metadata": {},
   "outputs": [],
   "source": [
    "def rank_filter(img, size, threshold):\n",
    "    if size % 2 == 0:\n",
    "        raise Exception(\"Only even size of aperture is supported\")\n",
    "\n",
    "    new_img = np.zeros(shape=img.shape)\n",
    "\n",
    "    x, y = 0, 0\n",
    "    while y + size <= img.shape[0]:\n",
    "        if y % 2 == 0:\n",
    "            while x + 1 < img.shape[1]:\n",
    "                __rank_filter_helper(img, new_img, x, y, size, threshold)\n",
    "                x += 1\n",
    "        else:\n",
    "            while x - 1 > 0:\n",
    "                __rank_filter_helper(img, new_img, x, y, size, threshold)\n",
    "                x -= 1\n",
    "\n",
    "        y += 1\n",
    "\n",
    "    return new_img.astype(np.uint8)"
   ]
  },
  {
   "cell_type": "code",
   "execution_count": null,
   "metadata": {},
   "outputs": [],
   "source": [
    "if __name__ == '__main__':\n",
    "    image_name = '3_3.png'\n",
    "    method_prefix = 'rank'\n",
    "    img_src = Image.open('input/' + image_name).convert('L')\n",
    "    img_src_arr = np.array(img_src)\n",
    "\n",
    "    for i in range(1, 10):\n",
    "        Image.fromarray(\n",
    "            rank_filter(\n",
    "                img=img_src_arr,\n",
    "                size=3,\n",
    "                threshold=i\n",
    "            ),\n",
    "            'L'\n",
    "        ).save(f\"pictures_results/work_2/{image_name.split('_')[0]}/{i}_of_9.png\")"
   ]
  }
 ],
 "metadata": {
  "kernelspec": {
   "display_name": "Python 3",
   "language": "python",
   "name": "python3"
  },
  "language_info": {
   "codemirror_mode": {
    "name": "ipython",
    "version": 3
   },
   "file_extension": ".py",
   "mimetype": "text/x-python",
   "name": "python",
   "nbconvert_exporter": "python",
   "pygments_lexer": "ipython3",
   "version": "3.11.2"
  }
 },
 "nbformat": 4,
 "nbformat_minor": 2
}
