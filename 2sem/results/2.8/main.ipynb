{
 "cells": [
  {
   "cell_type": "code",
   "execution_count": 2,
   "metadata": {},
   "outputs": [],
   "source": [
    "from PIL import Image\n",
    "import numpy as np\n",
    "import os\n",
    "import time\n"
   ]
  },
  {
   "cell_type": "code",
   "execution_count": 6,
   "metadata": {},
   "outputs": [],
   "source": [
    "def image_to_np_array(image_name: str) -> np.array:\n",
    "    img_src = Image.open(path.join('input', image_name)).convert('RGB')\n",
    "    return np.array(img_src)"
   ]
  },
  {
   "cell_type": "code",
   "execution_count": 7,
   "metadata": {},
   "outputs": [],
   "source": [
    "def to_semitone(img):\n",
    "    return (0.3 * img[:, :, 0] + 0.59 * img[:, :, 1] + 0.11 *\n",
    "            img[:, :, 2]).astype(np.uint8)"
   ]
  },
  {
   "cell_type": "markdown",
   "metadata": {},
   "source": [
    "<!-- def semitone(img_arr):\n",
    "    height = img_arr.shape[0]\n",
    "    width = img_arr.shape[1]\n",
    "\n",
    "    new_img_arr = np.zeros(shape=(height, width))\n",
    "\n",
    "    for x in range(width):\n",
    "        for y in range(height):\n",
    "            pixel = old_img_arr[y, x]\n",
    "            new_img_arr[y, x] = 0.3 * pixel[0] + 0.59 * pixel[1] + 0.11 * pixel[2]\n",
    "\n",
    "    return new_img_arr.astype(np.uint8) -->"
   ]
  },
  {
   "cell_type": "code",
   "execution_count": 14,
   "metadata": {},
   "outputs": [],
   "source": [
    "# loacl threshold for every pixel\n",
    "def compute_local_threshold(image, window_size=15, C=10):\n",
    "    \n",
    "    height, width = image.shape\n",
    "    padded_image = np.pad(image, pad_width=window_size // 2, mode='edge')\n",
    "    threshold_image = np.zeros_like(image)\n",
    "\n",
    "    for i in range(height):\n",
    "        for j in range(width):\n",
    "            local_area = padded_image[i:i + window_size, j:j + window_size]\n",
    "            local_mean = np.mean(local_area)\n",
    "            threshold_image[i, j] = local_mean - C\n",
    "\n",
    "    return threshold_image"
   ]
  },
  {
   "cell_type": "code",
   "execution_count": 20,
   "metadata": {},
   "outputs": [],
   "source": [
    "# method of WAN binarization\n",
    "def wan_bin(image, window_size=15, C=8):\n",
    "    if image.ndim == 3:\n",
    "        image = to_semitone(image).astype(np.uint8)\n",
    "\n",
    "    threshold_image = compute_local_threshold(image, window_size, C)\n",
    "    binarized_image = np.where(image > threshold_image, 255, 0).astype(np.uint8)\n",
    "\n",
    "    return binarized_image"
   ]
  },
  {
   "cell_type": "code",
   "execution_count": 21,
   "metadata": {},
   "outputs": [],
   "source": [
    "def exec_img(img_name):\n",
    "    time_start = time.time()\n",
    "\n",
    "    img_src = Image.open('input/' + img_name).convert('RGB')\n",
    "\n",
    "    gray_img_arr = to_semitone(np.array(img_src))  \n",
    "\n",
    "    bin_img_arr = wan_bin(gray_img_arr)\n",
    "\n",
    "    img = Image.fromarray(bin_img_arr)\n",
    "    img.save(\"output/semitoned_\" + img_name + \".png\")\n",
    "    print(\"time on {} : {}s\".format(img_name, time.time() - time_start))\n"
   ]
  },
  {
   "cell_type": "code",
   "execution_count": 24,
   "metadata": {},
   "outputs": [
    {
     "name": "stdout",
     "output_type": "stream",
     "text": [
      "time on 84_3.png : 86.26634955406189s\n",
      "time on 198_115.png : 122.91692662239075s\n",
      "time on face.png : 14.30328369140625s\n",
      "time on im1.png : 15.972792863845825s\n",
      "     total time on 4 images : 239.46655440330505s\n"
     ]
    }
   ],
   "source": [
    "def main():\n",
    "    images = os.listdir(\"input/\")\n",
    "    # images = [\"face.png\", \"im1.png\"]\n",
    "    time_start = time.time()\n",
    "    for i in range(len(images)):\n",
    "        exec_img(images[i])\n",
    "    print(\"     total time on {} images : {}s\".format( len(images) ,time.time() - time_start))\n",
    "\n",
    "if __name__ == \"__main__\":\n",
    "    main()"
   ]
  }
 ],
 "metadata": {
  "kernelspec": {
   "display_name": "Python 3",
   "language": "python",
   "name": "python3"
  },
  "language_info": {
   "codemirror_mode": {
    "name": "ipython",
    "version": 3
   },
   "file_extension": ".py",
   "mimetype": "text/x-python",
   "name": "python",
   "nbconvert_exporter": "python",
   "pygments_lexer": "ipython3",
   "version": "3.10.12"
  }
 },
 "nbformat": 4,
 "nbformat_minor": 2
}
