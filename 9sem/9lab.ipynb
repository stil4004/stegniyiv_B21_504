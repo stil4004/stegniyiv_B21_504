{
 "cells": [
  {
   "cell_type": "code",
   "execution_count": 1,
   "metadata": {},
   "outputs": [],
   "source": [
    "import os\n",
    "\n",
    "import numpy as np\n",
    "import matplotlib.pyplot as plt\n",
    "import itertools\n",
    "\n",
    "from scipy.io import wavfile\n",
    "from scipy import signal\n",
    "from tqdm import tqdm"
   ]
  },
  {
   "cell_type": "code",
   "execution_count": null,
   "metadata": {},
   "outputs": [],
   "source": [
    "dpi = 1000\n",
    "FILE_NAME = 'guitar.wav'"
   ]
  },
  {
   "cell_type": "code",
   "execution_count": 2,
   "metadata": {},
   "outputs": [],
   "source": [
    "def spectrogram(samples, sample_rate, filename):\n",
    "    freq, t, spec = signal.spectrogram(samples, sample_rate, scaling='spectrum', window=('hann'))\n",
    "\n",
    "    spec = np.log10(spec + 1)\n",
    "    plt.pcolormesh(t, freq, spec, shading='gouraud', vmin=spec.min(), vmax=spec.max())\n",
    "    plt.ylabel('Period [Hz]')\n",
    "    plt.xlabel('Time [s]')\n",
    "\n",
    "    plt.savefig(filename)\n",
    "\n",
    "    return freq, t, spec\n"
   ]
  },
  {
   "cell_type": "code",
   "execution_count": 3,
   "metadata": {},
   "outputs": [],
   "source": [
    "\n",
    "def make_butter_filter(sample_rate, data, output_dir):\n",
    "    b, a = signal.butter(10, 0.1, btype='lowpass')\n",
    "    filtered_signal = signal.filtfilt(b, a, data)\n",
    "    wavfile.write(os.path.join(output_dir, 'butter.wav'), sample_rate, filtered_signal.astype(np.int16))\n",
    "    spectrogram(filtered_signal, sample_rate, os.path.join(output_dir, 'butter.png'))\n"
   ]
  },
  {
   "cell_type": "code",
   "execution_count": 4,
   "metadata": {},
   "outputs": [],
   "source": [
    "def make_savgol_filter(sample_rate, data, output_dir):\n",
    "    denoised_savgol = signal.savgol_filter(data, 75, 5)\n",
    "    wavfile.write(os.path.join(output_dir, 'savgol.wav'), sample_rate, denoised_savgol.astype(np.int16))\n",
    "    spectrogram(denoised_savgol, sample_rate, os.path.join(output_dir, 'savgol.png'))\n"
   ]
  },
  {
   "cell_type": "code",
   "execution_count": 5,
   "metadata": {},
   "outputs": [],
   "source": [
    "\n",
    "def get_peaks(sample_rate, data, output_dir):\n",
    "    peaks = set()\n",
    "    delta_t = 0.1\n",
    "    delta_freq = 50\n",
    "\n",
    "    freq, t, spec = spectrogram(data, sample_rate, os.path.join(output_dir, 'input.png'))\n",
    "\n",
    "    for i in tqdm(range(len(freq)), desc='get_peaks'):\n",
    "        for j in range(len(t)):\n",
    "            index_t = np.asarray(abs(t - t[j]) < delta_t).nonzero()[0]\n",
    "            index_freq = np.asarray(abs(freq - freq[i]) < delta_freq).nonzero()[0]\n",
    "            indexes = np.array([x for x in itertools.product(index_freq, index_t)])\n",
    "            flag = True\n",
    "            for a, b in indexes:\n",
    "                if spec[i, j] <= spec[a, b] and i != a and i != b:\n",
    "                    flag = False\n",
    "                    break\n",
    "\n",
    "            if flag:\n",
    "                peaks.add(t[j])\n",
    "\n",
    "    with open(os.path.join(output_dir, 'peaks.txt'), 'w') as f:\n",
    "        f.write(str(len(peaks)))\n",
    "        f.write('\\n')\n",
    "        f.write(str(peaks))\n"
   ]
  },
  {
   "cell_type": "code",
   "execution_count": 6,
   "metadata": {},
   "outputs": [],
   "source": [
    "\n",
    "def main():\n",
    "    input_path = 'input'\n",
    "    output_path = 'output'\n",
    "    os.makedirs(output_path, exist_ok=True)\n",
    "\n",
    "    sample_rate, data = wavfile.read(os.path.join(input_path, FILE_NAME))\n",
    "\n",
    "    make_butter_filter(sample_rate, data, output_path)\n",
    "    print('done butter filter')\n",
    "\n",
    "    make_savgol_filter(sample_rate, data, output_path)\n",
    "    print('done savgol filter')\n",
    "\n",
    "    get_peaks(sample_rate, data, output_path)\n"
   ]
  },
  {
   "cell_type": "code",
   "execution_count": 7,
   "metadata": {},
   "outputs": [
    {
     "ename": "NameError",
     "evalue": "name '__file__' is not defined",
     "output_type": "error",
     "traceback": [
      "\u001b[1;31m---------------------------------------------------------------------------\u001b[0m",
      "\u001b[1;31mNameError\u001b[0m                                 Traceback (most recent call last)",
      "Cell \u001b[1;32mIn[7], line 2\u001b[0m\n\u001b[0;32m      1\u001b[0m \u001b[38;5;28;01mif\u001b[39;00m \u001b[38;5;18m__name__\u001b[39m \u001b[38;5;241m==\u001b[39m \u001b[38;5;124m'\u001b[39m\u001b[38;5;124m__main__\u001b[39m\u001b[38;5;124m'\u001b[39m:\n\u001b[1;32m----> 2\u001b[0m     \u001b[43mmain\u001b[49m\u001b[43m(\u001b[49m\u001b[43m)\u001b[49m\n",
      "Cell \u001b[1;32mIn[6], line 2\u001b[0m, in \u001b[0;36mmain\u001b[1;34m()\u001b[0m\n\u001b[0;32m      1\u001b[0m \u001b[38;5;28;01mdef\u001b[39;00m \u001b[38;5;21mmain\u001b[39m():\n\u001b[1;32m----> 2\u001b[0m     current_dir \u001b[38;5;241m=\u001b[39m os\u001b[38;5;241m.\u001b[39mpath\u001b[38;5;241m.\u001b[39mdirname(os\u001b[38;5;241m.\u001b[39mpath\u001b[38;5;241m.\u001b[39mabspath(\u001b[38;5;18;43m__file__\u001b[39;49m))\n\u001b[0;32m      3\u001b[0m     input_path \u001b[38;5;241m=\u001b[39m os\u001b[38;5;241m.\u001b[39mpath\u001b[38;5;241m.\u001b[39mjoin(current_dir, \u001b[38;5;124m'\u001b[39m\u001b[38;5;124minput\u001b[39m\u001b[38;5;124m'\u001b[39m)\n\u001b[0;32m      4\u001b[0m     output_path \u001b[38;5;241m=\u001b[39m os\u001b[38;5;241m.\u001b[39mpath\u001b[38;5;241m.\u001b[39mjoin(current_dir, \u001b[38;5;124m'\u001b[39m\u001b[38;5;124moutput\u001b[39m\u001b[38;5;124m'\u001b[39m)\n",
      "\u001b[1;31mNameError\u001b[0m: name '__file__' is not defined"
     ]
    }
   ],
   "source": [
    "if __name__ == '__main__':\n",
    "    main()"
   ]
  }
 ],
 "metadata": {
  "kernelspec": {
   "display_name": "Python 3",
   "language": "python",
   "name": "python3"
  },
  "language_info": {
   "codemirror_mode": {
    "name": "ipython",
    "version": 3
   },
   "file_extension": ".py",
   "mimetype": "text/x-python",
   "name": "python",
   "nbconvert_exporter": "python",
   "pygments_lexer": "ipython3",
   "version": "3.11.2"
  }
 },
 "nbformat": 4,
 "nbformat_minor": 2
}
