{
 "cells": [
  {
   "cell_type": "code",
   "execution_count": 2,
   "metadata": {},
   "outputs": [],
   "source": [
    "import csv\n",
    "import os\n",
    "from math import ceil\n",
    "\n",
    "import numpy as np\n",
    "from PIL import Image, ImageFont, ImageDraw, ImageOps\n",
    "from matplotlib import pyplot as plt"
   ]
  },
  {
   "cell_type": "code",
   "execution_count": 3,
   "metadata": {},
   "outputs": [],
   "source": [
    "Tibet_alphabet = [\"0F00\", \"0F01\", \"0F02\", \"0F03\", \"0F04\", \"0F05\", \"0F06\", \"0F07\", \"0F08\", \"0F09\", \"0F0A\",\n",
    "                           \"0F0B\", \"0F0C\", \"0F0D\", \"0F40\", \"0F41\", \"0F42\", \"0F43\", \"0F44\", \"0F45\", , \"0F46\", \"0F47\", \"0F49\", \"0F4A\"]\n",
    "tibet_letters = [chr(int(letter, 16)) for letter in Tibet_alphabet]\n",
    "\n",
    "unit_size = 52\n",
    "base_threshold = 75\n",
    "\n",
    "WHITE = 255"
   ]
  },
  {
   "cell_type": "code",
   "execution_count": 4,
   "metadata": {},
   "outputs": [],
   "source": [
    "def _simple_binarization(img, threshold=base_threshold):\n",
    "    semitoned = (0.3 * img[:, :, 0] + 0.59 * img[:, :, 1] + 0.11 * img[:, :, 2]).astype(np.uint8)\n",
    "    new_image = np.zeros(shape=semitoned.shape)\n",
    "    new_image[semitoned > threshold] = WHITE\n",
    "    return new_image.astype(np.uint8)"
   ]
  },
  {
   "cell_type": "code",
   "execution_count": 5,
   "metadata": {},
   "outputs": [],
   "source": [
    "def generate_letters(sin_letters):\n",
    "    font = ImageFont.truetype(\"input/Unicode.ttf\", unit_size)\n",
    "    os.makedirs(\"output/letters\", exist_ok=True)\n",
    "    os.makedirs(\"output/inverse_letters\", exist_ok=True)\n",
    "\n",
    "    for i in range(len(sin_letters)):\n",
    "        letter = sin_letters[i]\n",
    "\n",
    "        width, height = font.getsize(letter)\n",
    "        img = Image.new(mode=\"RGB\", size=(ceil(width), ceil(height)), color=\"white\")\n",
    "        draw = ImageDraw.Draw(img)\n",
    "        draw.text((0, 0), letter, \"black\", font=font)\n",
    "\n",
    "        img = Image.fromarray(_simple_binarization(np.array(img), base_threshold), 'L')\n",
    "        img.save(f\"output/letters/{i + 1}.png\")\n",
    "\n",
    "        ImageOps.invert(img).save(f\"output/inverse_letters/{i + 1}.png\")"
   ]
  },
  {
   "cell_type": "code",
   "execution_count": 6,
   "metadata": {},
   "outputs": [],
   "source": [
    "def calculate_features(img):\n",
    "    img_b = np.zeros(img.shape, dtype=int)\n",
    "    img_b[img != WHITE] = 1 \n",
    "    (h, w) = img_b.shape\n",
    "    h_half, w_half = h // 2, w // 2\n",
    "    quadrants = {\n",
    "        'top_left': img_b[:h_half, :w_half],\n",
    "        'top_right': img_b[:h_half, w_half:],\n",
    "        'bottom_left': img_b[h_half:, :w_half],\n",
    "        'bottom_right': img_b[h_half:, w_half:]\n",
    "    }\n",
    "    weights = {k: np.sum(v) for k, v in quadrants.items()}\n",
    "    rel_weights = {k: v / (h_half * w_half) for k, v in weights.items()}\n",
    "\n",
    "    total_pixels = np.sum(img_b) \n",
    "    y_indices, x_indices = np.indices(img_b.shape)\n",
    "    y_center_of_mass = np.sum(y_indices * img_b) / total_pixels\n",
    "    x_center_of_mass = np.sum(x_indices * img_b) / total_pixels\n",
    "    center_of_mass = (x_center_of_mass, y_center_of_mass)\n",
    "\n",
    "    # Normalized center of mass\n",
    "    normalized_center_of_mass = (x_center_of_mass / (w - 1), y_center_of_mass / (h - 1))\n",
    "\n",
    "    # Inertia\n",
    "    inertia_x = np.sum((y_indices - y_center_of_mass) ** 2 * img_b) / total_pixels\n",
    "    normalized_inertia_x = inertia_x / h ** 2\n",
    "    inertia_y = np.sum((x_indices - x_center_of_mass) ** 2 * img_b) / total_pixels\n",
    "    normalized_inertia_y = inertia_y / w ** 2\n",
    "\n",
    "    return {\n",
    "        'weight': total_pixels,\n",
    "        'center_of_mass': center_of_mass,\n",
    "        'weights': weights,\n",
    "        'rel_weights': rel_weights,\n",
    "        'inertia': (inertia_x, inertia_y),\n",
    "        'normalized_center_of_mass': normalized_center_of_mass,\n",
    "        'normalized_inertia': (normalized_inertia_x, normalized_inertia_y)\n",
    "    }"
   ]
  },
  {
   "cell_type": "code",
   "execution_count": 7,
   "metadata": {},
   "outputs": [],
   "source": [
    "def create_features(sin_letters):\n",
    "    with open('output/data.csv', 'w', newline='', encoding='utf-8') as csvfile:\n",
    "        fieldnames = ['weight', 'weights', 'rel_weights', 'center_of_mass', 'normalized_center_of_mass',\n",
    "                      'inertia', 'normalized_inertia']\n",
    "        writer = csv.DictWriter(csvfile, fieldnames=fieldnames)\n",
    "        writer.writeheader()\n",
    "\n",
    "        for i in range(len(sin_letters)):\n",
    "            img_src = np.array(Image.open(f'output/letters/{i + 1}.png').convert('L'))\n",
    "            features = calculate_features(img_src)\n",
    "            writer.writerow(features)"
   ]
  },
  {
   "cell_type": "code",
   "execution_count": 8,
   "metadata": {},
   "outputs": [],
   "source": [
    "def create_profiles(sin_letters):\n",
    "    os.makedirs(\"output/profiles/x\", exist_ok=True)\n",
    "    os.makedirs(\"output/profiles/y\", exist_ok=True)\n",
    "\n",
    "    for i in range(len(sin_letters)):\n",
    "        img = np.array(Image.open(f'output/letters/{i + 1}.png').convert('L'))\n",
    "        img_b = np.zeros(img.shape, dtype=int)\n",
    "        img_b[img != WHITE] = 1 \n",
    "\n",
    "        plt.bar(\n",
    "            x=np.arange(start=1, stop=img_b.shape[1] + 1).astype(int),\n",
    "            height=np.sum(img_b, axis=0),\n",
    "            width=0.9\n",
    "        )\n",
    "        plt.ylim(0, unit_size)\n",
    "        plt.xlim(0, 55)\n",
    "        plt.savefig(f'output/profiles/x/{i + 1}.png')\n",
    "        plt.clf()\n",
    "\n",
    "        plt.barh(\n",
    "            y=np.arange(start=1, stop=img_b.shape[0] + 1).astype(int),\n",
    "            width=np.sum(img_b, axis=1),\n",
    "            height=0.9\n",
    "        )\n",
    "        plt.ylim(unit_size, 0)\n",
    "        plt.xlim(0, 55)\n",
    "        plt.savefig(f'output/profiles/y/{i + 1}.png')\n",
    "        plt.clf()"
   ]
  },
  {
   "cell_type": "code",
   "execution_count": 12,
   "metadata": {},
   "outputs": [
    {
     "name": "stdout",
     "output_type": "stream",
     "text": [
      "Starting...\n",
      "generated letters\n",
      "create marks\n"
     ]
    },
    {
     "name": "stderr",
     "output_type": "stream",
     "text": [
      "C:\\Users\\vest3\\AppData\\Local\\Temp\\ipykernel_20240\\3639819545.py:9: DeprecationWarning: getsize is deprecated and will be removed in Pillow 10 (2023-07-01). Use getbbox or getlength instead.\n",
      "  width, height = font.getsize(letter)\n"
     ]
    },
    {
     "name": "stdout",
     "output_type": "stream",
     "text": [
      "created profiles\n"
     ]
    },
    {
     "data": {
      "text/plain": [
       "<Figure size 640x480 with 0 Axes>"
      ]
     },
     "metadata": {},
     "output_type": "display_data"
    }
   ],
   "source": [
    "if __name__ == \"__main__\":\n",
    "    print(\"Starting...\")\n",
    "    generate_letters(tibet_letters)\n",
    "    print(\"generated letters\")\n",
    "\n",
    "    create_features(tibet_letters)\n",
    "    print(\"create marks\")\n",
    "\n",
    "    create_profiles(tibet_letters)\n",
    "    print(\"created profiles\")"
   ]
  }
 ],
 "metadata": {
  "kernelspec": {
   "display_name": "Python 3",
   "language": "python",
   "name": "python3"
  },
  "language_info": {
   "codemirror_mode": {
    "name": "ipython",
    "version": 3
   },
   "file_extension": ".py",
   "mimetype": "text/x-python",
   "name": "python",
   "nbconvert_exporter": "python",
   "pygments_lexer": "ipython3",
   "version": "3.11.2"
  }
 },
 "nbformat": 4,
 "nbformat_minor": 2
}
