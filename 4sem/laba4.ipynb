{
 "cells": [
  {
   "cell_type": "code",
   "execution_count": 51,
   "metadata": {},
   "outputs": [],
   "source": [
    "from PIL import Image\n",
    "from time import time_ns\n",
    "import math\n",
    "import numpy as np\n",
    "import os\n",
    "import ipywidgets as widgets"
   ]
  },
  {
   "cell_type": "code",
   "execution_count": 52,
   "metadata": {},
   "outputs": [],
   "source": [
    "def get_all_images():\n",
    "  fileDict = {}\n",
    "  for img_name in  os.listdir(\"./input\"):\n",
    "    img_file = Image.open('input/' + img_name, 'r').convert('RGB')\n",
    "    fileDict.update({img_name: img_file})\n",
    "  return fileDict"
   ]
  },
  {
   "cell_type": "code",
   "execution_count": 54,
   "metadata": {},
   "outputs": [],
   "source": [
    "def binarization(image):\n",
    "  result = Image.new('L', (image.width, image.height))\n",
    "\n",
    "  for x in range(result.width):  #цвет в полутон\n",
    "    for y in range(result.height):\n",
    "      pixel = image.getpixel((x, y))\n",
    "      new_pixel = int(round(pixel[0] * 0.3 + pixel[1] * 0.59 + pixel[2] * 0.11))\n",
    "      result.putpixel((x, y), new_pixel)\n",
    "\n",
    "  return result"
   ]
  },
  {
   "cell_type": "code",
   "execution_count": 55,
   "metadata": {},
   "outputs": [],
   "source": [
    "operator_prewitt_x = np.array([[-1, -1, -1], \n",
    "                               [ 0,  0,  0],\n",
    "                               [ 1,  1,  1]])\n",
    "operator_prewitt_y = np.array([[-1, 0, 1], \n",
    "                               [-1, 0, 1],\n",
    "                               [-1, 0, 1]])"
   ]
  },
  {
   "cell_type": "code",
   "execution_count": 56,
   "metadata": {},
   "outputs": [
    {
     "data": {
      "application/vnd.jupyter.widget-view+json": {
       "model_id": "0a31c237583e458983aaff592c51b6b7",
       "version_major": 2,
       "version_minor": 0
      },
      "text/plain": [
       "FloatSlider(value=2.5, description='Test:', max=10.0, readout_format='.1f', step=0.5)"
      ]
     },
     "execution_count": 56,
     "metadata": {},
     "output_type": "execute_result"
    }
   ],
   "source": [
    "s = widgets.FloatSlider(\n",
    "  value=2.5,\n",
    "  min=0,\n",
    "  max=10.0,\n",
    "  step=0.5,\n",
    "  description='Test:',\n",
    "  disabled=False,\n",
    "  continuous_update=True,\n",
    "  orientation='horizontal',\n",
    "  readout=True,\n",
    "  readout_format='.1f',\n",
    ")\n",
    "s"
   ]
  },
  {
   "cell_type": "code",
   "execution_count": 57,
   "metadata": {},
   "outputs": [],
   "source": [
    "def contour_selection(image, operator_x, operator_y, window_size):\n",
    "  width, height = image.size\n",
    "  S = s.value\n",
    "  print(S)\n",
    "  gray_arr = np.asarray(image, dtype=np.uint8)\n",
    "  \n",
    "  G_x_matrix = np.zeros(shape=(height, width))\n",
    "  G_y_matrix = np.zeros(shape=(height, width))\n",
    "  G_matrix = np.zeros(shape=(height, width))\n",
    "  \n",
    "  padded_gray_arr = np.pad(gray_arr, ((1, 1), (1, 1)), mode='constant')  #однопиксельные отступы вокруг, чтобы градиент на краях был в норме\n",
    "  for i in range(1, height+1): \n",
    "    for j in range(1, width+1): \n",
    "      i_min = max(i - window_size // 2, 0)\n",
    "      i_max = min(i + window_size // 2, height+1)\n",
    "      j_min = max(j - window_size // 2, 0)\n",
    "      j_max = min(j + window_size // 2, width+1)\n",
    "      \n",
    "      window_matrix = padded_gray_arr[i_min:i_max+1, j_min:j_max+1] #матрица значений для окна свертки\n",
    "      \n",
    "      G_x = np.sum(operator_x * window_matrix) #компоненты градиента\n",
    "      G_y = np.sum(operator_y * window_matrix)\n",
    "      G = np.abs(G_x) + np.abs(G_y)\n",
    "\n",
    "      G_x_matrix[i-1, j-1] = int(round(G_x))\n",
    "      G_y_matrix[i-1, j-1] = int(round(G_y))\n",
    "      G_matrix[i-1, j-1] = int(round(G))\n",
    "        \n",
    "  G_x_matrix_normalized = np.abs(G_x_matrix / np.max(G_x_matrix) * 255) #не выходить за ограду от 0 до 255!!\n",
    "  G_y_matrix_normalized = np.abs(G_y_matrix / np.max(G_y_matrix) * 255)\n",
    "  G_matrix_normalized = G_matrix / np.max(G_matrix) * 255\n",
    "  \n",
    "  t = np.mean(G_matrix_normalized) * S   #порог бинаризации(среднее на S)\n",
    "\n",
    "  gXImg = Image.fromarray(G_x_matrix_normalized.astype(np.uint8), mode='L')\n",
    "  gYImg = Image.fromarray(G_y_matrix_normalized.astype(np.uint8), mode='L')\n",
    "\n",
    "  g_img = Image.fromarray(G_matrix_normalized.astype(np.uint8), mode='L')\n",
    "  binary_img = Image.fromarray((G_matrix_normalized > t).astype(np.uint8) * 255, mode = 'L') # порог бинаризации к суммарной матрице, выше - снежок, ниже - уголек\n",
    "\n",
    "  return gXImg, gYImg, g_img, binary_img\n"
   ]
  },
  {
   "cell_type": "code",
   "execution_count": 58,
   "metadata": {},
   "outputs": [],
   "source": [
    "def proceed_contour(operator_x, operator_y, window_size: int):\n",
    "  images = get_all_images()\n",
    "\n",
    "  for (image_name, image) in images.items():\n",
    "    grayscale_image = binarization(image)\n",
    "    g_x_img, g_y_img, g_img, binary_img = contour_selection(grayscale_image, operator_x, operator_y, window_size)\n",
    "\n",
    "    g_x_img.save('output/' + image_name[:-4] + '_x.processed.png')\n",
    "    g_y_img.save('output/' + image_name[:-4] + '_y.processed.png')\n",
    "    g_img.save('output/' + image_name[:-4] + '.processed.png')\n",
    "    binary_img.save('output/' + image_name[:-4] + '_binary.processed.png')\n",
    "    grayscale_image.save('output/' + image_name[:-4] + '_grayscale.processed.png')"
   ]
  },
  {
   "cell_type": "code",
   "execution_count": 59,
   "metadata": {},
   "outputs": [],
   "source": [
    "def main():\n",
    "  proceed_contour(operator_prewitt_x, operator_prewitt_y, 3)"
   ]
  },
  {
   "cell_type": "code",
   "execution_count": 61,
   "metadata": {},
   "outputs": [
    {
     "name": "stdout",
     "output_type": "stream",
     "text": [
      "4.0\n"
     ]
    },
    {
     "ename": "KeyboardInterrupt",
     "evalue": "",
     "output_type": "error",
     "traceback": [
      "\u001b[1;31m---------------------------------------------------------------------------\u001b[0m",
      "\u001b[1;31mKeyboardInterrupt\u001b[0m                         Traceback (most recent call last)",
      "Cell \u001b[1;32mIn[61], line 2\u001b[0m\n\u001b[0;32m      1\u001b[0m \u001b[38;5;28;01mif\u001b[39;00m \u001b[38;5;18m__name__\u001b[39m \u001b[38;5;241m==\u001b[39m \u001b[38;5;124m'\u001b[39m\u001b[38;5;124m__main__\u001b[39m\u001b[38;5;124m'\u001b[39m:\n\u001b[1;32m----> 2\u001b[0m   \u001b[43mmain\u001b[49m\u001b[43m(\u001b[49m\u001b[43m)\u001b[49m\n",
      "Cell \u001b[1;32mIn[59], line 2\u001b[0m, in \u001b[0;36mmain\u001b[1;34m()\u001b[0m\n\u001b[0;32m      1\u001b[0m \u001b[38;5;28;01mdef\u001b[39;00m \u001b[38;5;21mmain\u001b[39m():\n\u001b[1;32m----> 2\u001b[0m   \u001b[43mcontour_selection_test\u001b[49m\u001b[43m(\u001b[49m\u001b[43moperator_prewitt_x\u001b[49m\u001b[43m,\u001b[49m\u001b[43m \u001b[49m\u001b[43moperator_prewitt_y\u001b[49m\u001b[43m,\u001b[49m\u001b[43m \u001b[49m\u001b[38;5;241;43m3\u001b[39;49m\u001b[43m)\u001b[49m\n",
      "Cell \u001b[1;32mIn[58], line 9\u001b[0m, in \u001b[0;36mcontour_selection_test\u001b[1;34m(operator_x, operator_y, window_size)\u001b[0m\n\u001b[0;32m      7\u001b[0m \u001b[38;5;28;01mfor\u001b[39;00m (image_name, image) \u001b[38;5;129;01min\u001b[39;00m images\u001b[38;5;241m.\u001b[39mitems():\n\u001b[0;32m      8\u001b[0m   grayscale_image \u001b[38;5;241m=\u001b[39m binarization(image)\n\u001b[1;32m----> 9\u001b[0m   g_x_img, g_y_img, g_img, binary_img \u001b[38;5;241m=\u001b[39m \u001b[43mcontour_selection\u001b[49m\u001b[43m(\u001b[49m\u001b[43mgrayscale_image\u001b[49m\u001b[43m,\u001b[49m\u001b[43m \u001b[49m\u001b[43moperator_x\u001b[49m\u001b[43m,\u001b[49m\u001b[43m \u001b[49m\u001b[43moperator_y\u001b[49m\u001b[43m,\u001b[49m\u001b[43m \u001b[49m\u001b[43mwindow_size\u001b[49m\u001b[43m)\u001b[49m\n\u001b[0;32m     11\u001b[0m   output_name_x \u001b[38;5;241m=\u001b[39m \u001b[38;5;124mf\u001b[39m\u001b[38;5;124m'\u001b[39m\u001b[38;5;124moutput/\u001b[39m\u001b[38;5;132;01m{\u001b[39;00mimage_name\u001b[38;5;132;01m}\u001b[39;00m\u001b[38;5;124m_x.processed.png\u001b[39m\u001b[38;5;124m'\u001b[39m\n\u001b[0;32m     12\u001b[0m   output_name_y \u001b[38;5;241m=\u001b[39m \u001b[38;5;124mf\u001b[39m\u001b[38;5;124m'\u001b[39m\u001b[38;5;124moutput/\u001b[39m\u001b[38;5;132;01m{\u001b[39;00mimage_name\u001b[38;5;132;01m}\u001b[39;00m\u001b[38;5;124m_y.processed.png\u001b[39m\u001b[38;5;124m'\u001b[39m\n",
      "Cell \u001b[1;32mIn[57], line 22\u001b[0m, in \u001b[0;36mcontour_selection\u001b[1;34m(image, operator_x, operator_y, window_size)\u001b[0m\n\u001b[0;32m     19\u001b[0m window_matrix \u001b[38;5;241m=\u001b[39m padded_gray_arr[i_min:i_max\u001b[38;5;241m+\u001b[39m\u001b[38;5;241m1\u001b[39m, j_min:j_max\u001b[38;5;241m+\u001b[39m\u001b[38;5;241m1\u001b[39m] \u001b[38;5;66;03m#матрица значений для окна свертки\u001b[39;00m\n\u001b[0;32m     21\u001b[0m G_x \u001b[38;5;241m=\u001b[39m np\u001b[38;5;241m.\u001b[39msum(operator_x \u001b[38;5;241m*\u001b[39m window_matrix) \u001b[38;5;66;03m#компоненты градиента\u001b[39;00m\n\u001b[1;32m---> 22\u001b[0m G_y \u001b[38;5;241m=\u001b[39m \u001b[43mnp\u001b[49m\u001b[38;5;241;43m.\u001b[39;49m\u001b[43msum\u001b[49m\u001b[43m(\u001b[49m\u001b[43moperator_y\u001b[49m\u001b[43m \u001b[49m\u001b[38;5;241;43m*\u001b[39;49m\u001b[43m \u001b[49m\u001b[43mwindow_matrix\u001b[49m\u001b[43m)\u001b[49m\n\u001b[0;32m     23\u001b[0m G \u001b[38;5;241m=\u001b[39m np\u001b[38;5;241m.\u001b[39mabs(G_x) \u001b[38;5;241m+\u001b[39m np\u001b[38;5;241m.\u001b[39mabs(G_y)\n\u001b[0;32m     25\u001b[0m G_x_matrix[i\u001b[38;5;241m-\u001b[39m\u001b[38;5;241m1\u001b[39m, j\u001b[38;5;241m-\u001b[39m\u001b[38;5;241m1\u001b[39m] \u001b[38;5;241m=\u001b[39m \u001b[38;5;28mint\u001b[39m(\u001b[38;5;28mround\u001b[39m(G_x))\n",
      "File \u001b[1;32m<__array_function__ internals>:180\u001b[0m, in \u001b[0;36msum\u001b[1;34m(*args, **kwargs)\u001b[0m\n",
      "\u001b[1;31mKeyboardInterrupt\u001b[0m: "
     ]
    }
   ],
   "source": [
    "if __name__ == '__main__':\n",
    "  main()\n"
   ]
  }
 ],
 "metadata": {
  "kernelspec": {
   "display_name": "Python 3",
   "language": "python",
   "name": "python3"
  },
  "language_info": {
   "codemirror_mode": {
    "name": "ipython",
    "version": 3
   },
   "file_extension": ".py",
   "mimetype": "text/x-python",
   "name": "python",
   "nbconvert_exporter": "python",
   "pygments_lexer": "ipython3",
   "version": "3.11.2"
  }
 },
 "nbformat": 4,
 "nbformat_minor": 2
}
