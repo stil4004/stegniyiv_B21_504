{
 "cells": [
  {
   "cell_type": "code",
   "execution_count": 7,
   "metadata": {},
   "outputs": [
    {
     "ename": "ModuleNotFoundError",
     "evalue": "No module named 'resampling'",
     "output_type": "error",
     "traceback": [
      "\u001b[1;31m---------------------------------------------------------------------------\u001b[0m",
      "\u001b[1;31mModuleNotFoundError\u001b[0m                       Traceback (most recent call last)",
      "Cell \u001b[1;32mIn[7], line 4\u001b[0m\n\u001b[0;32m      2\u001b[0m \u001b[38;5;28;01mimport\u001b[39;00m \u001b[38;5;21;01mnumpy\u001b[39;00m \u001b[38;5;28;01mas\u001b[39;00m \u001b[38;5;21;01mnp\u001b[39;00m\n\u001b[0;32m      3\u001b[0m \u001b[38;5;28;01mfrom\u001b[39;00m \u001b[38;5;21;01mos\u001b[39;00m \u001b[38;5;28;01mimport\u001b[39;00m path\n\u001b[1;32m----> 4\u001b[0m \u001b[38;5;28;01mfrom\u001b[39;00m \u001b[38;5;21;01mresampling\u001b[39;00m \u001b[38;5;28;01mimport\u001b[39;00m \u001b[38;5;241m*\u001b[39m\n",
      "\u001b[1;31mModuleNotFoundError\u001b[0m: No module named 'resampling'"
     ]
    }
   ],
   "source": [
    "from PIL import Image\n",
    "import numpy as np\n",
    "from os import path\n"
   ]
  },
  {
   "cell_type": "code",
   "execution_count": 9,
   "metadata": {},
   "outputs": [],
   "source": [
    "def image_to_np_array(image_name: str) -> np.array:\n",
    "    img_src = Image.open(path.join('input', image_name)).convert('RGB')\n",
    "    return np.array(img_src)"
   ]
  },
  {
   "cell_type": "code",
   "execution_count": 10,
   "metadata": {},
   "outputs": [],
   "source": [
    "\n",
    "def one_step_resampling(img: np.array, factor: float, f1, f2):\n",
    "    dimensions = img.shape[0:2]\n",
    "    new_dimensions = tuple(f1(dimension, factor) for dimension in\n",
    "                           dimensions)\n",
    "    new_shape = (*new_dimensions, img.shape[2])\n",
    "    new_img = np.empty(new_shape)\n",
    "\n",
    "    for x in range(new_dimensions[0]):\n",
    "        for y in range(new_dimensions[1]):\n",
    "            new_img[x, y] = img[\n",
    "                min(f2(x, factor), dimensions[0] - 1),\n",
    "                min(f2(y, factor), dimensions[1] - 1)\n",
    "            ]\n",
    "    return new_img"
   ]
  },
  {
   "cell_type": "code",
   "execution_count": 11,
   "metadata": {},
   "outputs": [],
   "source": [
    "\n",
    "def two_step_resampling(img: np.array, numerator: int,\n",
    "                        denominator: int) -> np.array:\n",
    "    tmp = one_step_resampling(img, numerator, lambda a, b: a * b, lambda a, b: int(round(a / b)))\n",
    "    return one_step_resampling(tmp, denominator, lambda a, b: int(round(a / b)), lambda a, b: a * b)\n"
   ]
  },
  {
   "cell_type": "code",
   "execution_count": 12,
   "metadata": {},
   "outputs": [],
   "source": [
    "def prompt(variants: dict):\n",
    "    for number, variant in enumerate(variants.keys(), 1):\n",
    "        print(f'{number} - {variant}')\n",
    "\n",
    "    input_correct = False\n",
    "    user_input = 0\n",
    "\n",
    "    while not input_correct:\n",
    "        try:\n",
    "            user_input = int(input('> '))\n",
    "            if user_input <= 0 or user_input > len(variants):\n",
    "                raise ValueError\n",
    "            input_correct = True\n",
    "        except ValueError:\n",
    "            print(\"Incorrect value\")\n",
    "\n",
    "    return dict(enumerate(variants.values(), 1))[user_input]"
   ]
  },
  {
   "cell_type": "code",
   "execution_count": 13,
   "metadata": {},
   "outputs": [],
   "source": [
    "\n",
    "def safe_number_input(number_type: type, lower_bound=None, upper_bound=None):\n",
    "    input_correct = False\n",
    "    user_input = 0\n",
    "\n",
    "    while not input_correct:\n",
    "        try:\n",
    "            user_input = number_type(input('> '))\n",
    "            if lower_bound is not None and user_input < lower_bound:\n",
    "                raise ValueError\n",
    "            if upper_bound is not None and user_input > upper_bound:\n",
    "                raise ValueError\n",
    "            input_correct = True\n",
    "        except ValueError:\n",
    "            print(\"Incorrect value\")\n",
    "    return user_input\n"
   ]
  },
  {
   "cell_type": "code",
   "execution_count": 14,
   "metadata": {},
   "outputs": [],
   "source": [
    "\n",
    "def execute(img, f1, f2, number_type=int):\n",
    "    data_type = np.uint8\n",
    "    color_model = 'RGB'\n",
    "\n",
    "    factor = safe_number_input(number_type, 0.5)\n",
    "    result = Image.fromarray(one_step_resampling(\n",
    "        img, factor, f1, f2).astype(data_type), color_model)\n",
    "\n",
    "    return result"
   ]
  },
  {
   "cell_type": "code",
   "execution_count": 15,
   "metadata": {},
   "outputs": [],
   "source": [
    "\n",
    "images = {\n",
    "#    'test': 'test.png',\n",
    "   'second': 'second.png'\n",
    "}\n",
    "\n",
    "\n",
    "operations = {\n",
    "    'Интерполяция': 'int',\n",
    "    'Децимация': 'dec',\n",
    "    'Двухпроходная передискретизация': 'two',\n",
    "    'Однопроходная передискретизация': 'one'\n",
    "}"
   ]
  },
  {
   "cell_type": "code",
   "execution_count": 16,
   "metadata": {},
   "outputs": [
    {
     "name": "stdout",
     "output_type": "stream",
     "text": [
      "choose image:\n",
      "1 - second\n",
      "Введите корректное значение\n",
      "choose operation:\n",
      "1 - Интерполяция\n",
      "2 - Децимация\n",
      "3 - Двухпроходная передискретизация\n",
      "4 - Однопроходная передискретизация\n",
      "Enter the whole stretching factor\n",
      "Результат загружен:  second.png\n"
     ]
    }
   ],
   "source": [
    "# choose image from dict of images\n",
    "print('choose image:')\n",
    "selected_image = prompt(images)\n",
    "img = image_to_np_array(selected_image)\n",
    "\n",
    "# choose operation from dict op operations\n",
    "print('choose operation:')\n",
    "operation = prompt(operations)\n",
    "\n",
    "match operation:\n",
    "    case 'int':\n",
    "        print('Enter the whole stretching factor')\n",
    "        result = execute(img, lambda a, b: a * b, lambda a, b: int(round(a / b)))\n",
    "\n",
    "    case 'dec':\n",
    "        print('Enter the whole compression ratio')\n",
    "        result = execute(img, lambda a, b: int(round(a / b)), lambda a, b: a * b)\n",
    "\n",
    "    case 'two':\n",
    "        print('Enter the whole stretching factor')\n",
    "        numerator = safe_number_input(int, 1)\n",
    "\n",
    "        print('Enter the whole compression ratio')\n",
    "        denominator = safe_number_input(int, 1)\n",
    "\n",
    "        args = [numerator, denominator]\n",
    "        result = Image.fromarray(\n",
    "            two_step_resampling(img, *args).astype(np.uint8),\n",
    "            'RGB')\n",
    "\n",
    "    case 'one':\n",
    "        print('Enter the fractional stretch/compression ratio')\n",
    "        result = execute(img, lambda a, b: int(round(a * b)),\n",
    "                            lambda a, b: int(round(a / b)), float)\n",
    "\n",
    "    case _:\n",
    "        exit()\n",
    "\n",
    "print('Результат загружен: ', selected_image)\n",
    "file_name = selected_image[:-4]\n",
    "result.save('output/' + file_name + '_test_' + operation + '.png' )"
   ]
  },
  {
   "cell_type": "code",
   "execution_count": null,
   "metadata": {},
   "outputs": [],
   "source": []
  },
  {
   "cell_type": "code",
   "execution_count": null,
   "metadata": {},
   "outputs": [],
   "source": []
  },
  {
   "cell_type": "code",
   "execution_count": null,
   "metadata": {},
   "outputs": [],
   "source": []
  },
  {
   "cell_type": "code",
   "execution_count": null,
   "metadata": {},
   "outputs": [],
   "source": []
  },
  {
   "cell_type": "code",
   "execution_count": null,
   "metadata": {},
   "outputs": [],
   "source": []
  },
  {
   "cell_type": "code",
   "execution_count": null,
   "metadata": {},
   "outputs": [],
   "source": []
  }
 ],
 "metadata": {
  "kernelspec": {
   "display_name": "Python 3",
   "language": "python",
   "name": "python3"
  },
  "language_info": {
   "codemirror_mode": {
    "name": "ipython",
    "version": 3
   },
   "file_extension": ".py",
   "mimetype": "text/x-python",
   "name": "python",
   "nbconvert_exporter": "python",
   "pygments_lexer": "ipython3",
   "version": "3.11.2"
  }
 },
 "nbformat": 4,
 "nbformat_minor": 2
}
