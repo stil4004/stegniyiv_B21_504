{
 "cells": [
  {
   "cell_type": "code",
   "execution_count": 2,
   "metadata": {},
   "outputs": [],
   "source": [
    "import os\n",
    "import librosa\n",
    "import matplotlib.pyplot as plt\n",
    "import numpy as np\n",
    "from scipy import signal\n",
    "from scipy.io import wavfile\n",
    "from scipy.ndimage import maximum_filter"
   ]
  },
  {
   "cell_type": "code",
   "execution_count": 3,
   "metadata": {},
   "outputs": [],
   "source": [
    "def get_max_tembr(filepath):\n",
    "    data, sample_rate = librosa.load(filepath)\n",
    "    chroma = librosa.feature.chroma_stft(y=data, sr=sample_rate)\n",
    "    f0 = librosa.piptrack(y=data, sr=sample_rate, S=chroma)[0]\n",
    "    max_f0 = np.argmax(f0)\n",
    "    return max_f0"
   ]
  },
  {
   "cell_type": "code",
   "execution_count": 4,
   "metadata": {},
   "outputs": [],
   "source": [
    "def spectrogram(samples, sample_rate, filepath):\n",
    "    freq, t, spec = signal.spectrogram(samples, sample_rate, window=('hann'))\n",
    "    spec = np.log10(spec + 1)\n",
    "    plt.pcolormesh(t, freq, spec, shading='gouraud', vmin=spec.min(), vmax=spec.max())\n",
    "    plt.ylabel('Period [Hz]')\n",
    "    plt.xlabel('Time [s]')\n",
    "\n",
    "    plt.savefig(filepath)\n",
    "\n",
    "    return freq, t, spec"
   ]
  },
  {
   "cell_type": "code",
   "execution_count": 5,
   "metadata": {},
   "outputs": [],
   "source": [
    "def get_peaks(freq, t, spec):\n",
    "    delta_t = int(0.1 * len(t))\n",
    "    delta_freq = int(50 / (freq[1] - freq[0]))\n",
    "    filtered = maximum_filter(spec, size=(delta_freq, delta_t))\n",
    "\n",
    "    peaks_mask = (spec == filtered)\n",
    "    peak_values = spec[peaks_mask]\n",
    "    peak_frequencies = freq[peaks_mask.any(axis=1)]\n",
    "\n",
    "    top_indices = np.argsort(peak_values)[-3:]\n",
    "    top_frequencies = peak_frequencies[top_indices]\n",
    "\n",
    "    return list(top_frequencies)"
   ]
  },
  {
   "cell_type": "code",
   "execution_count": 6,
   "metadata": {},
   "outputs": [],
   "source": [
    "def get_max_min(voice_path):\n",
    "    y, sr = librosa.load(voice_path, sr=None)\n",
    "\n",
    "    D = librosa.amplitude_to_db(np.abs(librosa.stft(y)), ref=np.max)\n",
    "\n",
    "    frequencies = librosa.fft_frequencies(sr=sr)\n",
    "    mean_spec = np.mean(D, axis=1)\n",
    "\n",
    "    idx_min = np.argmax(mean_spec > -80)\n",
    "    idx_max = len(mean_spec) - np.argmax(mean_spec[::-1] > -80) - 1\n",
    "\n",
    "    min_freq = frequencies[idx_min]\n",
    "    max_freq = frequencies[idx_max]\n",
    "\n",
    "    return max_freq, min_freq"
   ]
  },
  {
   "cell_type": "code",
   "execution_count": 7,
   "metadata": {},
   "outputs": [],
   "source": [
    "def main():\n",
    "    current_dir = os.path.dirname(\"./\")\n",
    "    output_path = os.path.join(current_dir, 'output')\n",
    "    os.makedirs(output_path, exist_ok=True)\n",
    "\n",
    "    input_path = os.path.join(current_dir, 'input')\n",
    "    humiliations = ['i_sound', 'a_sound', 'tarzan']\n",
    "    humiliation_voice_paths = [\n",
    "        (humiliation, os.path.join(input_path, f'{humiliation}.wav'))\n",
    "        for humiliation in humiliations\n",
    "    ]\n",
    "    with open(os.path.join(output_path, 'res.txt'), 'w') as res_file:\n",
    "        for humiliation, voice_path in humiliation_voice_paths:\n",
    "            rate, samples = wavfile.read(voice_path)\n",
    "            freq, t, spec = spectrogram(samples, rate, os.path.join(output_path, f'{humiliation}.png'))\n",
    "            max_freq, min_freq = get_max_min(voice_path)\n",
    "\n",
    "            res_file.write(f'{humiliation}:\\n')\n",
    "            res_file.write(f'\\tМаксимальная частота: {max_freq}\\n')\n",
    "            res_file.write(f'\\tМинимальная частота: {min_freq}\\n')\n",
    "            res_file.write(f\"\\tНаиболее тембрально окрашенный основной тон: {get_max_tembr(voice_path)}. \"\n",
    "                           \"Это частота, для которой прослеживается наибольшее количество обертонов\\n\")\n",
    "            if 'letter' in humiliation:\n",
    "                res_file.write(f\"\\tТри самые сильные форманты: {get_peaks(freq, t, spec)}. \"\n",
    "                               \"Это частоты с наибольшей энергией в некоторой окрестности\\n\")\n",
    "\n"
   ]
  },
  {
   "cell_type": "code",
   "execution_count": 8,
   "metadata": {},
   "outputs": [
    {
     "ename": "NameError",
     "evalue": "name '__file__' is not defined",
     "output_type": "error",
     "traceback": [
      "\u001b[1;31m---------------------------------------------------------------------------\u001b[0m",
      "\u001b[1;31mNameError\u001b[0m                                 Traceback (most recent call last)",
      "Cell \u001b[1;32mIn[8], line 2\u001b[0m\n\u001b[0;32m      1\u001b[0m \u001b[38;5;28;01mif\u001b[39;00m \u001b[38;5;18m__name__\u001b[39m \u001b[38;5;241m==\u001b[39m \u001b[38;5;124m\"\u001b[39m\u001b[38;5;124m__main__\u001b[39m\u001b[38;5;124m\"\u001b[39m:\n\u001b[1;32m----> 2\u001b[0m     \u001b[43mmain\u001b[49m\u001b[43m(\u001b[49m\u001b[43m)\u001b[49m\n",
      "Cell \u001b[1;32mIn[7], line 2\u001b[0m, in \u001b[0;36mmain\u001b[1;34m()\u001b[0m\n\u001b[0;32m      1\u001b[0m \u001b[38;5;28;01mdef\u001b[39;00m \u001b[38;5;21mmain\u001b[39m():\n\u001b[1;32m----> 2\u001b[0m     current_dir \u001b[38;5;241m=\u001b[39m os\u001b[38;5;241m.\u001b[39mpath\u001b[38;5;241m.\u001b[39mdirname(os\u001b[38;5;241m.\u001b[39mpath\u001b[38;5;241m.\u001b[39mabspath(\u001b[38;5;18;43m__file__\u001b[39;49m))\n\u001b[0;32m      3\u001b[0m     output_path \u001b[38;5;241m=\u001b[39m os\u001b[38;5;241m.\u001b[39mpath\u001b[38;5;241m.\u001b[39mjoin(current_dir, \u001b[38;5;124m'\u001b[39m\u001b[38;5;124moutput\u001b[39m\u001b[38;5;124m'\u001b[39m)\n\u001b[0;32m      4\u001b[0m     os\u001b[38;5;241m.\u001b[39mmakedirs(output_path, exist_ok\u001b[38;5;241m=\u001b[39m\u001b[38;5;28;01mTrue\u001b[39;00m)\n",
      "\u001b[1;31mNameError\u001b[0m: name '__file__' is not defined"
     ]
    }
   ],
   "source": [
    "if __name__ == \"__main__\":\n",
    "    main()"
   ]
  }
 ],
 "metadata": {
  "kernelspec": {
   "display_name": "Python 3",
   "language": "python",
   "name": "python3"
  },
  "language_info": {
   "codemirror_mode": {
    "name": "ipython",
    "version": 3
   },
   "file_extension": ".py",
   "mimetype": "text/x-python",
   "name": "python",
   "nbconvert_exporter": "python",
   "pygments_lexer": "ipython3",
   "version": "3.11.2"
  }
 },
 "nbformat": 4,
 "nbformat_minor": 2
}
